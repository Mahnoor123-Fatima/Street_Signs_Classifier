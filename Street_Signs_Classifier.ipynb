{
  "nbformat": 4,
  "nbformat_minor": 0,
  "metadata": {
    "colab": {
      "name": "Street_Signs_Classifier.ipynb",
      "provenance": [],
      "collapsed_sections": [],
      "authorship_tag": "ABX9TyPMA2UvqMrLuPjGRGltWCQ2",
      "include_colab_link": true
    },
    "kernelspec": {
      "name": "python3",
      "display_name": "Python 3"
    },
    "accelerator": "GPU"
  },
  "cells": [
    {
      "cell_type": "markdown",
      "metadata": {
        "id": "view-in-github",
        "colab_type": "text"
      },
      "source": [
        "<a href=\"https://colab.research.google.com/github/Mahnoor123-Fatima/Street_Signs_Classifier/blob/main/Street_Signs_Classifier.ipynb\" target=\"_parent\"><img src=\"https://colab.research.google.com/assets/colab-badge.svg\" alt=\"Open In Colab\"/></a>"
      ]
    },
    {
      "cell_type": "code",
      "metadata": {
        "colab": {
          "base_uri": "https://localhost:8080/"
        },
        "id": "Mvx-Anf2uBgn",
        "outputId": "70886337-d48f-4687-9a52-e5a709e49c6d"
      },
      "source": [
        "#cloning into dataset repositry available on bitbucket\r\n",
        "!git clone https://bitbucket.org/jadslim/german-traffic-signs.git"
      ],
      "execution_count": null,
      "outputs": [
        {
          "output_type": "stream",
          "text": [
            "Cloning into 'german-traffic-signs'...\n",
            "remote: Counting objects: 6, done.\u001b[K\n",
            "remote: Compressing objects: 100% (6/6), done.\u001b[K\n",
            "remote: Total 6 (delta 0), reused 0 (delta 0)\u001b[K\n",
            "Unpacking objects: 100% (6/6), done.\n"
          ],
          "name": "stdout"
        }
      ]
    },
    {
      "cell_type": "code",
      "metadata": {
        "id": "j9B7DXVH3rcu"
      },
      "source": [
        "#how we unpickle data"
      ],
      "execution_count": null,
      "outputs": []
    },
    {
      "cell_type": "code",
      "metadata": {
        "id": "pXvyQIj036Gl"
      },
      "source": [
        "import pickle"
      ],
      "execution_count": null,
      "outputs": []
    },
    {
      "cell_type": "code",
      "metadata": {
        "id": "gg3r8X664TLz"
      },
      "source": [
        "#opening pickle files and creating variables for testing, training and validation data\n",
        "with open('/content/german-traffic-signs/train.p','rb') as f:    #rb means read binary format.\n",
        "  train_data = pickle.load(f)                                    #f is pointer\n",
        "with open('/content/german-traffic-signs/test.p','rb') as f:\n",
        "  test_data = pickle.load(f)    \n",
        "with open('/content/german-traffic-signs/valid.p','rb') as f:\n",
        "  valid_data = pickle.load(f) \n",
        "                                                                 "
      ],
      "execution_count": null,
      "outputs": []
    },
    {
      "cell_type": "code",
      "metadata": {
        "colab": {
          "base_uri": "https://localhost:8080/"
        },
        "id": "tWwOo4VF7yjA",
        "outputId": "ce78bfbd-57cd-47ad-d2c9-b7148571a947"
      },
      "source": [
        "type(train_data)"
      ],
      "execution_count": null,
      "outputs": [
        {
          "output_type": "execute_result",
          "data": {
            "text/plain": [
              "dict"
            ]
          },
          "metadata": {
            "tags": []
          },
          "execution_count": 7
        }
      ]
    },
    {
      "cell_type": "code",
      "metadata": {
        "id": "ohCE6iSL-U1z"
      },
      "source": [
        "#now we have to extract the dictionary and unpikle the data now this can be done as:\n",
        "x_train,y_train = train_data['features'],train_data['labels']\n",
        "x_test,y_test = test_data['features'],test_data['labels']\n",
        "x_valid,y_valid = valid_data['features'],valid_data['labels']"
      ],
      "execution_count": null,
      "outputs": []
    },
    {
      "cell_type": "code",
      "metadata": {
        "colab": {
          "base_uri": "https://localhost:8080/"
        },
        "id": "7S5SHIDt_skD",
        "outputId": "c758cf13-25ad-4a0e-db1b-c9614fa32780"
      },
      "source": [
        "x_train.shape"
      ],
      "execution_count": null,
      "outputs": [
        {
          "output_type": "execute_result",
          "data": {
            "text/plain": [
              "(34799, 32, 32, 3)"
            ]
          },
          "metadata": {
            "tags": []
          },
          "execution_count": 9
        }
      ]
    },
    {
      "cell_type": "code",
      "metadata": {
        "colab": {
          "base_uri": "https://localhost:8080/"
        },
        "id": "Y6EQUp4z_9f0",
        "outputId": "4f7424ae-75e4-4296-9b27-84583271cdf9"
      },
      "source": [
        "x_test.shape"
      ],
      "execution_count": null,
      "outputs": [
        {
          "output_type": "execute_result",
          "data": {
            "text/plain": [
              "(12630, 32, 32, 3)"
            ]
          },
          "metadata": {
            "tags": []
          },
          "execution_count": 10
        }
      ]
    },
    {
      "cell_type": "code",
      "metadata": {
        "colab": {
          "base_uri": "https://localhost:8080/"
        },
        "id": "JJ1QVSOTABLT",
        "outputId": "f8a2c18e-dc72-44a5-e670-e6350e7fc0e5"
      },
      "source": [
        "x_valid.shape"
      ],
      "execution_count": null,
      "outputs": [
        {
          "output_type": "execute_result",
          "data": {
            "text/plain": [
              "(4410, 32, 32, 3)"
            ]
          },
          "metadata": {
            "tags": []
          },
          "execution_count": 11
        }
      ]
    },
    {
      "cell_type": "code",
      "metadata": {
        "colab": {
          "base_uri": "https://localhost:8080/"
        },
        "id": "zn9tOlaFMEqW",
        "outputId": "348decd6-89fe-4dbd-ea83-5463c7168f13"
      },
      "source": [
        "import pandas as pd\n",
        "\n",
        "data = pd.read_csv('german-traffic-signs/signnames.csv')\n",
        "\n",
        "print(data)\n",
        "\n",
        "#from the dataframe printed below we come to know that the dataset has 43 classes."
      ],
      "execution_count": null,
      "outputs": [
        {
          "output_type": "stream",
          "text": [
            "    ClassId                                           SignName\n",
            "0         0                               Speed limit (20km/h)\n",
            "1         1                               Speed limit (30km/h)\n",
            "2         2                               Speed limit (50km/h)\n",
            "3         3                               Speed limit (60km/h)\n",
            "4         4                               Speed limit (70km/h)\n",
            "5         5                               Speed limit (80km/h)\n",
            "6         6                        End of speed limit (80km/h)\n",
            "7         7                              Speed limit (100km/h)\n",
            "8         8                              Speed limit (120km/h)\n",
            "9         9                                         No passing\n",
            "10       10       No passing for vechiles over 3.5 metric tons\n",
            "11       11              Right-of-way at the next intersection\n",
            "12       12                                      Priority road\n",
            "13       13                                              Yield\n",
            "14       14                                               Stop\n",
            "15       15                                        No vechiles\n",
            "16       16           Vechiles over 3.5 metric tons prohibited\n",
            "17       17                                           No entry\n",
            "18       18                                    General caution\n",
            "19       19                        Dangerous curve to the left\n",
            "20       20                       Dangerous curve to the right\n",
            "21       21                                       Double curve\n",
            "22       22                                         Bumpy road\n",
            "23       23                                      Slippery road\n",
            "24       24                          Road narrows on the right\n",
            "25       25                                          Road work\n",
            "26       26                                    Traffic signals\n",
            "27       27                                        Pedestrians\n",
            "28       28                                  Children crossing\n",
            "29       29                                  Bicycles crossing\n",
            "30       30                                 Beware of ice/snow\n",
            "31       31                              Wild animals crossing\n",
            "32       32                End of all speed and passing limits\n",
            "33       33                                   Turn right ahead\n",
            "34       34                                    Turn left ahead\n",
            "35       35                                         Ahead only\n",
            "36       36                               Go straight or right\n",
            "37       37                                Go straight or left\n",
            "38       38                                         Keep right\n",
            "39       39                                          Keep left\n",
            "40       40                               Roundabout mandatory\n",
            "41       41                                  End of no passing\n",
            "42       42  End of no passing by vechiles over 3.5 metric ...\n"
          ],
          "name": "stdout"
        }
      ]
    },
    {
      "cell_type": "code",
      "metadata": {
        "id": "MP1qrrPnAJi3"
      },
      "source": [
        "#for visualization of image import matplotlib\n",
        "import matplotlib.pyplot as plt\n"
      ],
      "execution_count": null,
      "outputs": []
    },
    {
      "cell_type": "code",
      "metadata": {
        "colab": {
          "base_uri": "https://localhost:8080/",
          "height": 283
        },
        "id": "-2OGBFDLAR5Z",
        "outputId": "a37156d7-67a1-4751-e326-2129d4139be6"
      },
      "source": [
        "# below code display an image from our dataset\r\n",
        "plt.imshow(x_train[0])"
      ],
      "execution_count": null,
      "outputs": [
        {
          "output_type": "execute_result",
          "data": {
            "text/plain": [
              "<matplotlib.image.AxesImage at 0x7fdcadd02f60>"
            ]
          },
          "metadata": {
            "tags": []
          },
          "execution_count": 14
        },
        {
          "output_type": "display_data",
          "data": {
            "image/png": "[encoded data removed]",
            "text/plain": [
              "<Figure size 432x288 with 1 Axes>"
            ]
          },
          "metadata": {
            "tags": [],
            "needs_background": "light"
          }
        }
      ]
    },
    {
      "cell_type": "code",
      "metadata": {
        "colab": {
          "base_uri": "https://localhost:8080/"
        },
        "id": "AzhB5qJxAkFQ",
        "outputId": "242e17df-e7be-4025-823d-938c0c1df8e6"
      },
      "source": [
        "print(y_train[0])"
      ],
      "execution_count": null,
      "outputs": [
        {
          "output_type": "stream",
          "text": [
            "41\n"
          ],
          "name": "stdout"
        }
      ]
    },
    {
      "cell_type": "code",
      "metadata": {
        "id": "TP3LBIVOloZn"
      },
      "source": [
        "#preprocessing of image\n",
        "import cv2"
      ],
      "execution_count": null,
      "outputs": []
    },
    {
      "cell_type": "code",
      "metadata": {
        "id": "pkHEnftQl2qr"
      },
      "source": [
        "#converting image into gray scale so that neural network can learn the pattern easily\n",
        "def gray(img):\n",
        "  img = cv2.cvtColor(img, cv2.COLOR_BGR2GRAY)\n",
        "  return img\n",
        "\n",
        "def equalize(img):\n",
        "  img = cv2.equalizeHist(img)\n",
        "  return img\n",
        "  #equalize histogram extract reigon of interest very correctly\n",
        "\n",
        "def preprocess(img):\n",
        "  img = gray(img)\n",
        "  img = equalize(img)\n",
        "  #normalizing of images\n",
        "  img = img/255\n",
        "  return img"
      ],
      "execution_count": null,
      "outputs": []
    },
    {
      "cell_type": "code",
      "metadata": {
        "id": "_e8pMIv8q2mG"
      },
      "source": [
        "import numpy as np"
      ],
      "execution_count": null,
      "outputs": []
    },
    {
      "cell_type": "code",
      "metadata": {
        "id": "yvBF7Q9hsg4q"
      },
      "source": [
        "#using map fucntion to iterate through the whole dataset and apply our preprocessing fucntion to every image\n",
        "x_train = np.array(list(map(preprocess, x_train )))\n",
        "x_test = np.array(list(map(preprocess, x_test )))\n",
        "x_valid = np.array(list(map(preprocess, x_valid )))"
      ],
      "execution_count": null,
      "outputs": []
    },
    {
      "cell_type": "code",
      "metadata": {
        "colab": {
          "base_uri": "https://localhost:8080/",
          "height": 283
        },
        "id": "SqN9M3vAsn_E",
        "outputId": "250a2fba-6c0d-471b-e1dc-163f940a3318"
      },
      "source": [
        "#preprocessed image\n",
        "plt.imshow(x_train[0])\n",
        "print(x_train.shape)"
      ],
      "execution_count": null,
      "outputs": [
        {
          "output_type": "stream",
          "text": [
            "(34799, 32, 32)\n"
          ],
          "name": "stdout"
        },
        {
          "output_type": "display_data",
          "data": {
            "image/png": "[encoded data removed]",
            "text/plain": [
              "<Figure size 432x288 with 1 Axes>"
            ]
          },
          "metadata": {
            "tags": [],
            "needs_background": "light"
          }
        }
      ]
    },
    {
      "cell_type": "code",
      "metadata": {
        "id": "MXRwFTK2ww1y"
      },
      "source": [
        "#converting the labels into categorical variables\r\n",
        "from tensorflow.keras.utils import to_categorical"
      ],
      "execution_count": null,
      "outputs": []
    },
    {
      "cell_type": "code",
      "metadata": {
        "id": "su02usMDw6hs"
      },
      "source": [
        "y_train = to_categorical(y_train, 43)\n",
        "y_test = to_categorical(y_test, 43)\n",
        "y_valid = to_categorical(y_valid, 43)"
      ],
      "execution_count": null,
      "outputs": []
    },
    {
      "cell_type": "code",
      "metadata": {
        "id": "DCVHXcTTxVnf"
      },
      "source": [
        "#reshaping of images\n",
        "x_train = x_train.reshape(34799, 32, 32 ,1)\n",
        "x_test = x_test.reshape(12630, 32, 32 ,1)\n",
        "x_valid = x_valid.reshape(4410, 32, 32 ,1)"
      ],
      "execution_count": null,
      "outputs": []
    },
    {
      "cell_type": "code",
      "metadata": {
        "id": "EdhVeI3jxzVk"
      },
      "source": [
        "#importing keras and required layers for creation of model\r\n",
        "from tensorflow.keras.layers import Conv2D, Flatten, MaxPooling2D, Dense, Dropout"
      ],
      "execution_count": null,
      "outputs": []
    },
    {
      "cell_type": "code",
      "metadata": {
        "id": "q2kiS9xi3MJl"
      },
      "source": [
        "from tensorflow.keras.models import Sequential"
      ],
      "execution_count": null,
      "outputs": []
    },
    {
      "cell_type": "code",
      "metadata": {
        "id": "JXC-5Qq53WUB"
      },
      "source": [
        "#create model\r\n",
        "model = Sequential()"
      ],
      "execution_count": null,
      "outputs": []
    },
    {
      "cell_type": "code",
      "metadata": {
        "id": "766cztAO3dNE"
      },
      "source": [
        "model = Sequential()\n",
        "model.add(Conv2D(32,(5,5),input_shape=(32,32,1),activation='relu'))\n",
        "model.add(MaxPooling2D(pool_size=(2,2)))\n",
        "\n",
        "model.add(Conv2D(15,(3,3),activation='relu'))\n",
        "model.add(MaxPooling2D(pool_size=(2,2)))\n",
        "\n",
        "model.add(Flatten())\n",
        "model.add(Dense(500,activation='relu')) \n",
        "model.add(Dropout(0.4))\n",
        "model.add(Dense(43,activation='softmax'))"
      ],
      "execution_count": null,
      "outputs": []
    },
    {
      "cell_type": "code",
      "metadata": {
        "id": "T6dspTEg5AQi"
      },
      "source": [
        "model.compile(loss='categorical_crossentropy', optimizer='adam', metrics=['accuracy'])"
      ],
      "execution_count": null,
      "outputs": []
    },
    {
      "cell_type": "code",
      "metadata": {
        "colab": {
          "base_uri": "https://localhost:8080/"
        },
        "id": "Nury22f_5q8K",
        "outputId": "185dac7c-22a4-4211-c9f4-a10994a9488d"
      },
      "source": [
        "model.summary()"
      ],
      "execution_count": null,
      "outputs": [
        {
          "output_type": "stream",
          "text": [
            "Model: \"sequential_1\"\n",
            "_________________________________________________________________\n",
            "Layer (type)                 Output Shape              Param #   \n",
            "=================================================================\n",
            "conv2d (Conv2D)              (None, 28, 28, 32)        832       \n",
            "_________________________________________________________________\n",
            "max_pooling2d (MaxPooling2D) (None, 14, 14, 32)        0         \n",
            "_________________________________________________________________\n",
            "conv2d_1 (Conv2D)            (None, 12, 12, 15)        4335      \n",
            "_________________________________________________________________\n",
            "max_pooling2d_1 (MaxPooling2 (None, 6, 6, 15)          0         \n",
            "_________________________________________________________________\n",
            "flatten (Flatten)            (None, 540)               0         \n",
            "_________________________________________________________________\n",
            "dense (Dense)                (None, 500)               270500    \n",
            "_________________________________________________________________\n",
            "dropout (Dropout)            (None, 500)               0         \n",
            "_________________________________________________________________\n",
            "dense_1 (Dense)              (None, 43)                21543     \n",
            "=================================================================\n",
            "Total params: 297,210\n",
            "Trainable params: 297,210\n",
            "Non-trainable params: 0\n",
            "_________________________________________________________________\n"
          ],
          "name": "stdout"
        }
      ]
    },
    {
      "cell_type": "code",
      "metadata": {
        "colab": {
          "base_uri": "https://localhost:8080/"
        },
        "id": "8r1-jbRa5v7D",
        "outputId": "f8045322-afc2-44ca-c1ac-026e8a5f0aa8"
      },
      "source": [
        "model.fit(x_train,y_train,epochs=50,batch_size=400,verbose=1,shuffle=1)"
      ],
      "execution_count": null,
      "outputs": [
        {
          "output_type": "stream",
          "text": [
            "Epoch 1/50\n",
            "87/87 [==============================] - 1s 8ms/step - loss: 2.4795 - accuracy: 0.3433\n",
            "Epoch 2/50\n",
            "87/87 [==============================] - 1s 7ms/step - loss: 0.8524 - accuracy: 0.7383\n",
            "Epoch 3/50\n",
            "87/87 [==============================] - 1s 7ms/step - loss: 0.4845 - accuracy: 0.8535\n",
            "Epoch 4/50\n",
            "87/87 [==============================] - 1s 7ms/step - loss: 0.3291 - accuracy: 0.9018\n",
            "Epoch 5/50\n",
            "87/87 [==============================] - 1s 7ms/step - loss: 0.2453 - accuracy: 0.9271\n",
            "Epoch 6/50\n",
            "87/87 [==============================] - 1s 7ms/step - loss: 0.1909 - accuracy: 0.9436\n",
            "Epoch 7/50\n",
            "87/87 [==============================] - 1s 7ms/step - loss: 0.1559 - accuracy: 0.9538\n",
            "Epoch 8/50\n",
            "87/87 [==============================] - 1s 7ms/step - loss: 0.1306 - accuracy: 0.9619\n",
            "Epoch 9/50\n",
            "87/87 [==============================] - 1s 7ms/step - loss: 0.1090 - accuracy: 0.9684\n",
            "Epoch 10/50\n",
            "87/87 [==============================] - 1s 7ms/step - loss: 0.0902 - accuracy: 0.9736\n",
            "Epoch 11/50\n",
            "87/87 [==============================] - 1s 7ms/step - loss: 0.0815 - accuracy: 0.9763\n",
            "Epoch 12/50\n",
            "87/87 [==============================] - 1s 7ms/step - loss: 0.0699 - accuracy: 0.9787\n",
            "Epoch 13/50\n",
            "87/87 [==============================] - 1s 7ms/step - loss: 0.0604 - accuracy: 0.9818\n",
            "Epoch 14/50\n",
            "87/87 [==============================] - 1s 7ms/step - loss: 0.0518 - accuracy: 0.9856\n",
            "Epoch 15/50\n",
            "87/87 [==============================] - 1s 7ms/step - loss: 0.0449 - accuracy: 0.9870\n",
            "Epoch 16/50\n",
            "87/87 [==============================] - 1s 7ms/step - loss: 0.0437 - accuracy: 0.9873\n",
            "Epoch 17/50\n",
            "87/87 [==============================] - 1s 7ms/step - loss: 0.0358 - accuracy: 0.9898\n",
            "Epoch 18/50\n",
            "87/87 [==============================] - 1s 7ms/step - loss: 0.0347 - accuracy: 0.9897\n",
            "Epoch 19/50\n",
            "87/87 [==============================] - 1s 7ms/step - loss: 0.0339 - accuracy: 0.9895\n",
            "Epoch 20/50\n",
            "87/87 [==============================] - 1s 7ms/step - loss: 0.0267 - accuracy: 0.9923\n",
            "Epoch 21/50\n",
            "87/87 [==============================] - 1s 7ms/step - loss: 0.0266 - accuracy: 0.9923\n",
            "Epoch 22/50\n",
            "87/87 [==============================] - 1s 7ms/step - loss: 0.0259 - accuracy: 0.9923\n",
            "Epoch 23/50\n",
            "87/87 [==============================] - 1s 7ms/step - loss: 0.0238 - accuracy: 0.9927\n",
            "Epoch 24/50\n",
            "87/87 [==============================] - 1s 7ms/step - loss: 0.0202 - accuracy: 0.9940\n",
            "Epoch 25/50\n",
            "87/87 [==============================] - 1s 7ms/step - loss: 0.0202 - accuracy: 0.9941\n",
            "Epoch 26/50\n",
            "87/87 [==============================] - 1s 7ms/step - loss: 0.0212 - accuracy: 0.9937\n",
            "Epoch 27/50\n",
            "87/87 [==============================] - 1s 7ms/step - loss: 0.0190 - accuracy: 0.9945\n",
            "Epoch 28/50\n",
            "87/87 [==============================] - 1s 7ms/step - loss: 0.0194 - accuracy: 0.9938\n",
            "Epoch 29/50\n",
            "87/87 [==============================] - 1s 7ms/step - loss: 0.0164 - accuracy: 0.9952\n",
            "Epoch 30/50\n",
            "87/87 [==============================] - 1s 7ms/step - loss: 0.0165 - accuracy: 0.9951\n",
            "Epoch 31/50\n",
            "87/87 [==============================] - 1s 7ms/step - loss: 0.0131 - accuracy: 0.9963\n",
            "Epoch 32/50\n",
            "87/87 [==============================] - 1s 7ms/step - loss: 0.0152 - accuracy: 0.9953\n",
            "Epoch 33/50\n",
            "87/87 [==============================] - 1s 7ms/step - loss: 0.0134 - accuracy: 0.9958\n",
            "Epoch 34/50\n",
            "87/87 [==============================] - 1s 7ms/step - loss: 0.0143 - accuracy: 0.9955\n",
            "Epoch 35/50\n",
            "87/87 [==============================] - 1s 7ms/step - loss: 0.0124 - accuracy: 0.9965\n",
            "Epoch 36/50\n",
            "87/87 [==============================] - 1s 7ms/step - loss: 0.0146 - accuracy: 0.9955\n",
            "Epoch 37/50\n",
            "87/87 [==============================] - 1s 7ms/step - loss: 0.0117 - accuracy: 0.9964\n",
            "Epoch 38/50\n",
            "87/87 [==============================] - 1s 7ms/step - loss: 0.0118 - accuracy: 0.9965\n",
            "Epoch 39/50\n",
            "87/87 [==============================] - 1s 7ms/step - loss: 0.0137 - accuracy: 0.9957\n",
            "Epoch 40/50\n",
            "87/87 [==============================] - 1s 7ms/step - loss: 0.0111 - accuracy: 0.9968\n",
            "Epoch 41/50\n",
            "87/87 [==============================] - 1s 7ms/step - loss: 0.0112 - accuracy: 0.9965\n",
            "Epoch 42/50\n",
            "87/87 [==============================] - 1s 7ms/step - loss: 0.0108 - accuracy: 0.9967\n",
            "Epoch 43/50\n",
            "87/87 [==============================] - 1s 7ms/step - loss: 0.0138 - accuracy: 0.9957\n",
            "Epoch 44/50\n",
            "87/87 [==============================] - 1s 7ms/step - loss: 0.0114 - accuracy: 0.9963\n",
            "Epoch 45/50\n",
            "87/87 [==============================] - 1s 7ms/step - loss: 0.0108 - accuracy: 0.9965\n",
            "Epoch 46/50\n",
            "87/87 [==============================] - 1s 7ms/step - loss: 0.0092 - accuracy: 0.9970\n",
            "Epoch 47/50\n",
            "87/87 [==============================] - 1s 7ms/step - loss: 0.0079 - accuracy: 0.9975\n",
            "Epoch 48/50\n",
            "87/87 [==============================] - 1s 7ms/step - loss: 0.0082 - accuracy: 0.9973\n",
            "Epoch 49/50\n",
            "87/87 [==============================] - 1s 7ms/step - loss: 0.0099 - accuracy: 0.9967\n",
            "Epoch 50/50\n",
            "87/87 [==============================] - 1s 7ms/step - loss: 0.0117 - accuracy: 0.9960\n"
          ],
          "name": "stdout"
        },
        {
          "output_type": "execute_result",
          "data": {
            "text/plain": [
              "<tensorflow.python.keras.callbacks.History at 0x7fdc140266d8>"
            ]
          },
          "metadata": {
            "tags": []
          },
          "execution_count": 30
        }
      ]
    },
    {
      "cell_type": "code",
      "metadata": {
        "id": "0YBfnV-PBq_0",
        "colab": {
          "base_uri": "https://localhost:8080/"
        },
        "outputId": "f3d460ac-1cb6-4567-827b-9521c0077c45"
      },
      "source": [
        "predictions = model.predict_classes(x_test)"
      ],
      "execution_count": null,
      "outputs": [
        {
          "output_type": "stream",
          "text": [
            "WARNING:tensorflow:From <ipython-input-31-7de0541c035a>:1: Sequential.predict_classes (from tensorflow.python.keras.engine.sequential) is deprecated and will be removed after 2021-01-01.\n",
            "Instructions for updating:\n",
            "Please use instead:* `np.argmax(model.predict(x), axis=-1)`,   if your model does multi-class classification   (e.g. if it uses a `softmax` last-layer activation).* `(model.predict(x) > 0.5).astype(\"int32\")`,   if your model does binary classification   (e.g. if it uses a `sigmoid` last-layer activation).\n"
          ],
          "name": "stdout"
        }
      ]
    },
    {
      "cell_type": "code",
      "metadata": {
        "colab": {
          "base_uri": "https://localhost:8080/"
        },
        "id": "gUO1CGi6Ca0l",
        "outputId": "9c21794e-1075-4be4-9a73-59b898106ed7"
      },
      "source": [
        "predictions[0]"
      ],
      "execution_count": null,
      "outputs": [
        {
          "output_type": "execute_result",
          "data": {
            "text/plain": [
              "16"
            ]
          },
          "metadata": {
            "tags": []
          },
          "execution_count": 32
        }
      ]
    },
    {
      "cell_type": "code",
      "metadata": {
        "colab": {
          "base_uri": "https://localhost:8080/"
        },
        "id": "cPjKvf5iCdp9",
        "outputId": "d6924bb6-167a-4048-87cf-475b6ffba68c"
      },
      "source": [
        "y_test[0]"
      ],
      "execution_count": null,
      "outputs": [
        {
          "output_type": "execute_result",
          "data": {
            "text/plain": [
              "array([0., 0., 0., 0., 0., 0., 0., 0., 0., 0., 0., 0., 0., 0., 0., 0., 1.,\n",
              "       0., 0., 0., 0., 0., 0., 0., 0., 0., 0., 0., 0., 0., 0., 0., 0., 0.,\n",
              "       0., 0., 0., 0., 0., 0., 0., 0., 0.], dtype=float32)"
            ]
          },
          "metadata": {
            "tags": []
          },
          "execution_count": 33
        }
      ]
    },
    {
      "cell_type": "code",
      "metadata": {
        "colab": {
          "base_uri": "https://localhost:8080/"
        },
        "id": "O6yivECIDiKs",
        "outputId": "e480a50f-0549-4e3c-e816-e08d8a1e26a1"
      },
      "source": [
        "predictions[0]"
      ],
      "execution_count": null,
      "outputs": [
        {
          "output_type": "execute_result",
          "data": {
            "text/plain": [
              "16"
            ]
          },
          "metadata": {
            "tags": []
          },
          "execution_count": 34
        }
      ]
    },
    {
      "cell_type": "code",
      "metadata": {
        "id": "iwGtYyNNDmRR"
      },
      "source": [
        "y_test = np.argmax(y_test, axis=1)"
      ],
      "execution_count": null,
      "outputs": []
    },
    {
      "cell_type": "code",
      "metadata": {
        "colab": {
          "base_uri": "https://localhost:8080/"
        },
        "id": "EiNffR5ZEYbM",
        "outputId": "3f95b94a-0712-41d3-ca9f-ccef6ec96d24"
      },
      "source": [
        "y_test[0]"
      ],
      "execution_count": null,
      "outputs": [
        {
          "output_type": "execute_result",
          "data": {
            "text/plain": [
              "16"
            ]
          },
          "metadata": {
            "tags": []
          },
          "execution_count": 36
        }
      ]
    },
    {
      "cell_type": "code",
      "metadata": {
        "id": "YuHXQRMbEhsg"
      },
      "source": [
        "from sklearn.metrics import classification_report"
      ],
      "execution_count": null,
      "outputs": []
    },
    {
      "cell_type": "code",
      "metadata": {
        "colab": {
          "base_uri": "https://localhost:8080/"
        },
        "id": "TYMQLIZcErbv",
        "outputId": "de4d6c1e-de13-4fdd-b3df-afa264276e3c"
      },
      "source": [
        "print(classification_report(y_test,predictions))"
      ],
      "execution_count": null,
      "outputs": [
        {
          "output_type": "stream",
          "text": [
            "              precision    recall  f1-score   support\n",
            "\n",
            "           0       1.00      0.62      0.76        60\n",
            "           1       0.95      0.95      0.95       720\n",
            "           2       0.92      0.98      0.95       750\n",
            "           3       0.91      0.94      0.92       450\n",
            "           4       0.95      0.93      0.94       660\n",
            "           5       0.89      0.86      0.87       630\n",
            "           6       1.00      0.70      0.82       150\n",
            "           7       0.91      0.91      0.91       450\n",
            "           8       0.90      0.92      0.91       450\n",
            "           9       0.94      1.00      0.97       480\n",
            "          10       0.99      0.99      0.99       660\n",
            "          11       0.94      0.90      0.92       420\n",
            "          12       0.95      0.98      0.97       690\n",
            "          13       0.98      1.00      0.99       720\n",
            "          14       0.98      0.98      0.98       270\n",
            "          15       0.90      0.98      0.94       210\n",
            "          16       0.97      0.99      0.98       150\n",
            "          17       0.99      0.97      0.98       360\n",
            "          18       0.86      0.82      0.84       390\n",
            "          19       1.00      0.52      0.68        60\n",
            "          20       0.54      0.50      0.52        90\n",
            "          21       0.78      0.39      0.52        90\n",
            "          22       0.95      0.88      0.91       120\n",
            "          23       0.76      0.95      0.84       150\n",
            "          24       0.92      0.79      0.85        90\n",
            "          25       0.88      0.92      0.90       480\n",
            "          26       0.79      0.83      0.81       180\n",
            "          27       0.73      0.50      0.59        60\n",
            "          28       0.78      0.95      0.86       150\n",
            "          29       0.81      0.98      0.89        90\n",
            "          30       0.70      0.65      0.67       150\n",
            "          31       0.84      0.88      0.86       270\n",
            "          32       0.85      1.00      0.92        60\n",
            "          33       0.98      0.99      0.99       210\n",
            "          34       1.00      0.97      0.98       120\n",
            "          35       1.00      0.98      0.99       390\n",
            "          36       0.98      0.97      0.98       120\n",
            "          37       0.91      0.98      0.94        60\n",
            "          38       0.98      0.97      0.98       690\n",
            "          39       0.93      0.97      0.95        90\n",
            "          40       0.94      0.88      0.91        90\n",
            "          41       0.95      0.65      0.77        60\n",
            "          42       0.90      0.99      0.94        90\n",
            "\n",
            "    accuracy                           0.92     12630\n",
            "   macro avg       0.90      0.87      0.88     12630\n",
            "weighted avg       0.93      0.92      0.92     12630\n",
            "\n"
          ],
          "name": "stdout"
        }
      ]
    },
    {
      "cell_type": "code",
      "metadata": {
        "id": "Rn7j80CcNAvQ"
      },
      "source": [
        "model.save('street_signs_classifier.h5')"
      ],
      "execution_count": null,
      "outputs": []
    }
  ]
}